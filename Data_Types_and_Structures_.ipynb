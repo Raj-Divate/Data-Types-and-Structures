{
  "nbformat": 4,
  "nbformat_minor": 0,
  "metadata": {
    "colab": {
      "provenance": []
    },
    "kernelspec": {
      "name": "python3",
      "display_name": "Python 3"
    },
    "language_info": {
      "name": "python"
    }
  },
  "cells": [
    {
      "cell_type": "code",
      "execution_count": null,
      "metadata": {
        "id": "BQsU7E4cex_z"
      },
      "outputs": [],
      "source": []
    },
    {
      "cell_type": "markdown",
      "source": [
        "1. What are data structures, and why are they important?\n",
        "\n",
        "Ans: Data structures are organized ways to store, manage, and access data\n",
        "     efficiently. They are important because they optimize operations like searching, sorting, inserting, and deleting data, enabling better performance in programming tasks.\n",
        "\n",
        "2. Difference between mutable and immutable data types with examples\n",
        "\n",
        "Ans: Mutable: Can be modified after creation (e.g., lists: my_list[0] = 5).\n",
        "\n",
        "    Immutable: Cannot be modified after creation (e.g., strings: my_str[0] = 'a' raises an error).\n",
        "\n",
        "3. Main differences between lists and tuples in Python\n",
        "\n",
        "Ans: Lists: Mutable, slower, and allow changes.\n",
        "\n",
        "     Tuples: Immutable, faster, and protect data integrity.\n",
        "\n",
        "4. How dictionaries store data\n",
        "\n",
        "Ans: Dictionaries store data as key-value pairs. Internally, they use hash\n",
        "    tables to allow fast access to values using their unique keys.\n",
        "\n",
        "5. Why use a set instead of a list in Python\n",
        "\n",
        "Ans: Use a set to store unique elements and remove duplicates automatically.\n",
        "     Sets also allow fast membership checks compared to lists.\n",
        "\n",
        "6. What is a string, and how is it different from a list?\n",
        "\n",
        "Ans: A string is a sequence of characters, immutable in Python. A list is\n",
        "    mutable and can store elements of different data types.\n",
        "\n",
        "7. How tuples ensure data integrity\n",
        "\n",
        "Ans: Tuples are immutable, meaning their data cannot be altered after creation.\n",
        "     This ensures data remains consistent and secure.\n",
        "\n",
        "8. What is a hash table, and how does it relate to dictionaries?\n",
        "\n",
        "Ans: A hash table is a data structure that maps keys to values using hash\n",
        "     functions. Python dictionaries are implemented as hash tables, enabling fast data retrieval.\n",
        "\n",
        "9. Can lists contain different data types?\n",
        "\n",
        "Ans:Yes, lists can contain elements of any data type (e.g., [1, \"hello\", 3.14]).\n",
        "\n",
        "10. Why are strings immutable in Python?\n",
        "\n",
        "Ans: Strings are immutable for efficiency and security, as it allows them to be\n",
        "     safely shared and reused across the program without unexpected modifications.\n",
        "\n",
        "11. Advantages of dictionaries over lists for certain tasks\n",
        "\n",
        "Ans: Dictionaries allow fast lookups using keys and can organize data more\n",
        "     effectively when key-value relationships are required.\n",
        "\n",
        "12. How do sets handle duplicate values in Python?\n",
        "\n",
        "Ans: Sets automatically eliminate duplicate values and only store unique\n",
        "     elements.\n",
        "\n",
        "13. Scenario where tuples are preferable over lists\n",
        "\n",
        "Ans: Use tuples when the data must remain constant, such as coordinates (x, y)\n",
        "     or configuration settings.\n",
        "\n",
        "14. How does the “in” keyword work for lists and dictionaries?\n",
        "\n",
        "Ans: In lists: Checks if the element exists in the list.\n",
        "\n",
        "     In dictionaries: Checks if the key exists in the dictionary.\n",
        "\n",
        "15. Can you modify the elements of a tuple? Why or why not?\n",
        "\n",
        "Ans: No, tuples are immutable. Once created, their elements cannot be changed. This property ensures data consistency.\n",
        "\n",
        "16. What is a nested dictionary, and an example of its use case?\n",
        "\n",
        "Ans: A nested dictionary is a dictionary within another dictionary.Example:\n",
        "\n",
        "     students = {\"John\": {\"age\": 20, \"grade\": \"A\"}, \"Doe\": {\"age\": 22, \"grade\": \"B\"}}\n",
        "\n",
        "    Use case: Storing hierarchical data like student details.\n",
        "\n",
        "17. Time complexity of accessing elements in a dictionary\n",
        "\n",
        "Ans: Accessing elements in a dictionary has an average time complexity of O(1)\n",
        "     due to hash table implementation.\n",
        "\n",
        "18. Situations where lists are preferred over dictionaries\n",
        "\n",
        "Ans: Use lists when you only need ordered data storage without key-value\n",
        "     relationships, like maintaining a sequence of numbers or items.\n",
        "\n",
        "19. Why are dictionaries considered unordered, and how does that affect data retrieval?\n",
        "\n",
        "Ans: Dictionaries are unordered because their data organization depends on hash\n",
        "     functions rather than the order of insertion. Retrieval relies on keys, not position.\n",
        "\n",
        "20. Difference between a list and a dictionary in data retrieval\n",
        "\n",
        "Ans: List: Retrieve data by position/index.\n",
        "\n",
        "     Dictionary: Retrieve data by unique keys for faster lookups."
      ],
      "metadata": {
        "id": "dEo1v2Pue0my"
      }
    },
    {
      "cell_type": "code",
      "source": [
        "#1) Write a code to create a string with your name and print it\n",
        "\n",
        "str1=(\"Raj\")\n",
        "print(str1)"
      ],
      "metadata": {
        "colab": {
          "base_uri": "https://localhost:8080/"
        },
        "id": "8aYCjrhffquO",
        "outputId": "c76bf4a7-cc24-4ade-86b7-3540a4d9dced"
      },
      "execution_count": null,
      "outputs": [
        {
          "output_type": "stream",
          "name": "stdout",
          "text": [
            "Raj\n"
          ]
        }
      ]
    },
    {
      "cell_type": "code",
      "source": [
        "\n",
        "# 2) Write a code to find the length of the string \"Hello World\"\n",
        "text = \"Hello world\"\n",
        "lenght = len(text)\n",
        "\n",
        "lenght"
      ],
      "metadata": {
        "colab": {
          "base_uri": "https://localhost:8080/"
        },
        "id": "-FwZLYErf564",
        "outputId": "03486097-56e6-4a1f-9cba-bacf54c5b346"
      },
      "execution_count": null,
      "outputs": [
        {
          "output_type": "execute_result",
          "data": {
            "text/plain": [
              "11"
            ]
          },
          "metadata": {},
          "execution_count": 28
        }
      ]
    },
    {
      "cell_type": "code",
      "source": [
        "# 3) Write a code to slice the first 3 characters from the string \"Python Programming\n",
        "\n",
        "Str3=(\"Python Programming\")\n",
        "Str3\n",
        "Str3[0:3]"
      ],
      "metadata": {
        "colab": {
          "base_uri": "https://localhost:8080/",
          "height": 36
        },
        "id": "-6pcjZqmgOLF",
        "outputId": "35202f4e-c5a2-4a06-9e4c-72ed018f4260"
      },
      "execution_count": null,
      "outputs": [
        {
          "output_type": "execute_result",
          "data": {
            "text/plain": [
              "'Pyt'"
            ],
            "application/vnd.google.colaboratory.intrinsic+json": {
              "type": "string"
            }
          },
          "metadata": {},
          "execution_count": 33
        }
      ]
    },
    {
      "cell_type": "markdown",
      "source": [],
      "metadata": {
        "id": "hJ2ThzEOi2q0"
      }
    },
    {
      "cell_type": "code",
      "source": [
        "# 4) Write a code to convert the string \"hello\" to uppercase\n",
        "\n",
        "str4=(\"hello\")\n",
        "str4.upper()"
      ],
      "metadata": {
        "colab": {
          "base_uri": "https://localhost:8080/",
          "height": 36
        },
        "id": "4AtQbCykgQiJ",
        "outputId": "ac066ec3-1dab-4ff8-f5c3-c2eb6ab69576"
      },
      "execution_count": null,
      "outputs": [
        {
          "output_type": "execute_result",
          "data": {
            "text/plain": [
              "'HELLO'"
            ],
            "application/vnd.google.colaboratory.intrinsic+json": {
              "type": "string"
            }
          },
          "metadata": {},
          "execution_count": 34
        }
      ]
    },
    {
      "cell_type": "code",
      "source": [
        "# 5) Write a code to replace the word \"apple\" with \"orange\" in the string \"I like apple\n",
        "\n",
        "str5=(\"I like apple\")\n",
        "str5.replace(\"apple\",\"orange\")"
      ],
      "metadata": {
        "colab": {
          "base_uri": "https://localhost:8080/",
          "height": 36
        },
        "id": "PjadcxToidDq",
        "outputId": "38e23f36-014c-4a7c-dd68-3010f175a471"
      },
      "execution_count": null,
      "outputs": [
        {
          "output_type": "execute_result",
          "data": {
            "text/plain": [
              "'I like orange'"
            ],
            "application/vnd.google.colaboratory.intrinsic+json": {
              "type": "string"
            }
          },
          "metadata": {},
          "execution_count": 35
        }
      ]
    },
    {
      "cell_type": "code",
      "source": [
        "# 6) Write a code to create a list with numbers 1 to 5 and print it\n",
        "\n",
        "list1=[1,2,3,4,5]\n",
        "list1"
      ],
      "metadata": {
        "colab": {
          "base_uri": "https://localhost:8080/"
        },
        "id": "xaaovKfZidGD",
        "outputId": "38ba4df3-294c-43bb-a814-ce1ca4767d9d"
      },
      "execution_count": null,
      "outputs": [
        {
          "output_type": "execute_result",
          "data": {
            "text/plain": [
              "[1, 2, 3, 4, 5]"
            ]
          },
          "metadata": {},
          "execution_count": 36
        }
      ]
    },
    {
      "cell_type": "code",
      "source": [
        "# 7) Write a code to append the number 10 to the list [1, 2, 3, 4]\n",
        "\n",
        "list2=[1,2,3,4]\n",
        "list2.append(10)\n",
        "list2"
      ],
      "metadata": {
        "colab": {
          "base_uri": "https://localhost:8080/"
        },
        "id": "wFKTDbzkidH5",
        "outputId": "9052400d-efaa-4587-bdb0-1a1d6b799dd5"
      },
      "execution_count": null,
      "outputs": [
        {
          "output_type": "execute_result",
          "data": {
            "text/plain": [
              "[1, 2, 3, 4, 10]"
            ]
          },
          "metadata": {},
          "execution_count": 39
        }
      ]
    },
    {
      "cell_type": "code",
      "source": [
        "# 8) Write a code to remove the number 3 from the list [1, 2, 3, 4, 5\n",
        "\n",
        "list3=[1,2,3,4,5]\n",
        "list3.remove(3)\n",
        "list3"
      ],
      "metadata": {
        "colab": {
          "base_uri": "https://localhost:8080/"
        },
        "id": "vthnbJR_idJ2",
        "outputId": "92528bed-48b4-4308-f327-926b5a34b672"
      },
      "execution_count": null,
      "outputs": [
        {
          "output_type": "execute_result",
          "data": {
            "text/plain": [
              "[1, 2, 4, 5]"
            ]
          },
          "metadata": {},
          "execution_count": 41
        }
      ]
    },
    {
      "cell_type": "code",
      "source": [
        "#9) Write a code to access the second element in the list ['a', 'b', 'c', 'd']\n",
        "list4=[\"a\",\"b\",\"c\",\"d\"]\n",
        "list4[1]"
      ],
      "metadata": {
        "colab": {
          "base_uri": "https://localhost:8080/",
          "height": 36
        },
        "id": "Ue1wVpcvidMw",
        "outputId": "2e447f57-4d77-47cd-ffc1-34c7850e3609"
      },
      "execution_count": null,
      "outputs": [
        {
          "output_type": "execute_result",
          "data": {
            "text/plain": [
              "'b'"
            ],
            "application/vnd.google.colaboratory.intrinsic+json": {
              "type": "string"
            }
          },
          "metadata": {},
          "execution_count": 43
        }
      ]
    },
    {
      "cell_type": "code",
      "source": [
        "# 10) Write a code to reverse the list [10, 20, 30, 40, 50].\n",
        "list5=[10,20,30,40,50]\n",
        "list5.reverse()\n",
        "list5"
      ],
      "metadata": {
        "colab": {
          "base_uri": "https://localhost:8080/"
        },
        "id": "p_2lLH_GidPW",
        "outputId": "5f1efba3-0083-4ccc-8e12-84d47a26bbed"
      },
      "execution_count": null,
      "outputs": [
        {
          "output_type": "execute_result",
          "data": {
            "text/plain": [
              "[50, 40, 30, 20, 10]"
            ]
          },
          "metadata": {},
          "execution_count": 44
        }
      ]
    },
    {
      "cell_type": "code",
      "source": [
        "# 11) Write a code to create a tuple with the elements 10, 20, 30 and print it.\n",
        "\n",
        "t=(10,20,30)\n",
        "t\n",
        "type(t)"
      ],
      "metadata": {
        "colab": {
          "base_uri": "https://localhost:8080/"
        },
        "id": "jioPAuhsidSJ",
        "outputId": "a3095dd1-c586-4fff-89f0-3dfdcea6eb12"
      },
      "execution_count": null,
      "outputs": [
        {
          "output_type": "execute_result",
          "data": {
            "text/plain": [
              "tuple"
            ]
          },
          "metadata": {},
          "execution_count": 49
        }
      ]
    },
    {
      "cell_type": "code",
      "source": [
        "# 12) Write a code to access the first element of the tuple ('apple', 'banana', 'cherry').\n",
        "t1=(\"apple\",\"banana\",\"cherry\")\n",
        "t1[0]"
      ],
      "metadata": {
        "colab": {
          "base_uri": "https://localhost:8080/",
          "height": 36
        },
        "id": "mR7PxHUckplS",
        "outputId": "430f6adb-3239-4517-fca1-b8c711f6be78"
      },
      "execution_count": null,
      "outputs": [
        {
          "output_type": "execute_result",
          "data": {
            "text/plain": [
              "'apple'"
            ],
            "application/vnd.google.colaboratory.intrinsic+json": {
              "type": "string"
            }
          },
          "metadata": {},
          "execution_count": 50
        }
      ]
    },
    {
      "cell_type": "code",
      "source": [
        "# 13)Write a code to count how many times the number 2 appears in the tuple (1, 2, 3, 2, 4, 2).\n",
        "t2=(1,2,3,2,4,2)\n",
        "t2.count(2)"
      ],
      "metadata": {
        "colab": {
          "base_uri": "https://localhost:8080/"
        },
        "id": "L6SJoR1glBMK",
        "outputId": "9becdcad-4454-46d3-ce93-ae5dc150eecf"
      },
      "execution_count": null,
      "outputs": [
        {
          "output_type": "execute_result",
          "data": {
            "text/plain": [
              "3"
            ]
          },
          "metadata": {},
          "execution_count": 51
        }
      ]
    },
    {
      "cell_type": "code",
      "source": [
        "# 14). Write a code to find the index of the element \"cat\" in the tuple ('dog', 'cat', 'rabbit').\n",
        "t3=('dog', 'cat', 'rabbit')\n",
        "t3.index(\"cat\")"
      ],
      "metadata": {
        "colab": {
          "base_uri": "https://localhost:8080/"
        },
        "id": "OP02lj9llJKR",
        "outputId": "9bcd1eb2-53c7-4717-8028-f64777c228e7"
      },
      "execution_count": null,
      "outputs": [
        {
          "output_type": "execute_result",
          "data": {
            "text/plain": [
              "1"
            ]
          },
          "metadata": {},
          "execution_count": 52
        }
      ]
    },
    {
      "cell_type": "code",
      "source": [
        "# 15) Write a code to check if the element \"banana\" is in the tuple ('apple', 'orange', 'banana')\n",
        "\n",
        "t4= ('apple', 'orange', 'banana')\n",
        "for banana in t4:\n",
        "  print(\"yes banana in t4\")\n",
        "else:\n",
        "   (\"Banana not in t4\")\n"
      ],
      "metadata": {
        "colab": {
          "base_uri": "https://localhost:8080/"
        },
        "id": "6y-MNiEKlaqq",
        "outputId": "a3c0a88b-d5d1-4fff-828a-1d8e7a6bb877"
      },
      "execution_count": null,
      "outputs": [
        {
          "output_type": "stream",
          "name": "stdout",
          "text": [
            "yes banana in t4\n",
            "yes banana in t4\n",
            "yes banana in t4\n"
          ]
        }
      ]
    },
    {
      "cell_type": "code",
      "source": [
        "# 16) Write a code to create a set with the elements 1, 2, 3, 4, 5 and print it\n",
        "\n",
        "set1={1,2,3,4,5}\n",
        "set1\n",
        "type(set1)"
      ],
      "metadata": {
        "colab": {
          "base_uri": "https://localhost:8080/"
        },
        "id": "3Oq2dZEBltlb",
        "outputId": "4e551fe2-d624-4007-cf1c-cf5b5a25288b"
      },
      "execution_count": null,
      "outputs": [
        {
          "output_type": "execute_result",
          "data": {
            "text/plain": [
              "set"
            ]
          },
          "metadata": {},
          "execution_count": 62
        }
      ]
    },
    {
      "cell_type": "code",
      "source": [
        "set1"
      ],
      "metadata": {
        "colab": {
          "base_uri": "https://localhost:8080/"
        },
        "id": "95aFQ9KBmcNQ",
        "outputId": "0deaa90a-ddbf-4b9f-d4cc-daa78d4e3b8e"
      },
      "execution_count": null,
      "outputs": [
        {
          "output_type": "execute_result",
          "data": {
            "text/plain": [
              "{1, 2, 3, 4, 5}"
            ]
          },
          "metadata": {},
          "execution_count": 63
        }
      ]
    },
    {
      "cell_type": "code",
      "source": [
        "# 17) Write a code to add the element 6 to the set {1, 2, 3, 4}\n",
        "\n",
        "set2={1, 2, 3, 4}\n",
        "set2.add(6)\n",
        "set2"
      ],
      "metadata": {
        "colab": {
          "base_uri": "https://localhost:8080/"
        },
        "id": "caJjxR0UmjVz",
        "outputId": "c1f2dc18-6500-4350-8116-4c9e9cce2c80"
      },
      "execution_count": null,
      "outputs": [
        {
          "output_type": "execute_result",
          "data": {
            "text/plain": [
              "{1, 2, 3, 4, 6}"
            ]
          },
          "metadata": {},
          "execution_count": 64
        }
      ]
    },
    {
      "cell_type": "code",
      "source": [
        "# 18)  Write a code to create a tuple with the elements 10, 20, 30 and print it.\n",
        "\n",
        "my_tup =(10,20,30)\n",
        "print(my_tup)"
      ],
      "metadata": {
        "colab": {
          "base_uri": "https://localhost:8080/"
        },
        "id": "mCiCTSvSmt3l",
        "outputId": "c722d0a5-5080-4bd0-8f42-fbcd6e394d92"
      },
      "execution_count": null,
      "outputs": [
        {
          "output_type": "stream",
          "name": "stdout",
          "text": [
            "(10, 20, 30)\n"
          ]
        }
      ]
    },
    {
      "cell_type": "code",
      "source": [
        "# 19)Write a code to access the first element of the tuple ('apple', 'banana', 'cherry').\n",
        "\n",
        "t5=('apple', 'banana', 'cherry')\n",
        "t5[0]\n"
      ],
      "metadata": {
        "colab": {
          "base_uri": "https://localhost:8080/",
          "height": 36
        },
        "id": "zrd89L1-mvRP",
        "outputId": "f4e9b063-7dd9-480c-b7e2-4862c33eb0d1"
      },
      "execution_count": null,
      "outputs": [
        {
          "output_type": "execute_result",
          "data": {
            "text/plain": [
              "'apple'"
            ],
            "application/vnd.google.colaboratory.intrinsic+json": {
              "type": "string"
            }
          },
          "metadata": {},
          "execution_count": 68
        }
      ]
    },
    {
      "cell_type": "code",
      "source": [
        "# 20)write a code to count how many times the number 2 appears in the tuple (1, 2, 3, 2, 4, 2).\n",
        "\n",
        "t6=(1, 2, 3, 2, 4, 2)\n",
        "t6.count(2)"
      ],
      "metadata": {
        "colab": {
          "base_uri": "https://localhost:8080/"
        },
        "id": "9GlPtxdfmvTu",
        "outputId": "52b74532-94eb-4ca2-de91-97a3d34c4277"
      },
      "execution_count": null,
      "outputs": [
        {
          "output_type": "execute_result",
          "data": {
            "text/plain": [
              "3"
            ]
          },
          "metadata": {},
          "execution_count": 72
        }
      ]
    },
    {
      "cell_type": "code",
      "source": [
        "#  21) Write a code to find the index of the element \"cat\" in the tuple ('dog', 'cat', 'rabbit').\n",
        "\n",
        "t7= ('dog', 'cat', 'rabbit')\n",
        "t7.index(\"cat\")"
      ],
      "metadata": {
        "colab": {
          "base_uri": "https://localhost:8080/"
        },
        "id": "Boh1QaB6mvXp",
        "outputId": "f8c5a145-b69c-41d0-ff7a-d7ef95f978bd"
      },
      "execution_count": null,
      "outputs": [
        {
          "output_type": "execute_result",
          "data": {
            "text/plain": [
              "1"
            ]
          },
          "metadata": {},
          "execution_count": 73
        }
      ]
    },
    {
      "cell_type": "code",
      "source": [
        "# 22) Write a code to check if the element \"banana\" is in the tuple ('apple', 'orange', 'banana').\n",
        "t8=('apple', 'orange', 'banana')\n",
        "for banana in t8:\n",
        "  print(\"yes banana in t8\")\n",
        "else:\n",
        "   (\"Banana not in t8\")"
      ],
      "metadata": {
        "colab": {
          "base_uri": "https://localhost:8080/"
        },
        "id": "o6brAc3Sojge",
        "outputId": "13b49623-dfdc-4bf9-cb40-5488f712f258"
      },
      "execution_count": null,
      "outputs": [
        {
          "output_type": "stream",
          "name": "stdout",
          "text": [
            "yes banana in t8\n",
            "yes banana in t8\n",
            "yes banana in t8\n"
          ]
        }
      ]
    },
    {
      "cell_type": "code",
      "source": [
        "# 23) Write a code to create a set with the elements 1, 2, 3, 4, 5 and print it\n",
        "set2={1,2,3,4,5}\n",
        "set2"
      ],
      "metadata": {
        "colab": {
          "base_uri": "https://localhost:8080/"
        },
        "id": "94vTaNfPo6Yq",
        "outputId": "cae8cad9-ae03-4b9b-b4c8-248918b948a1"
      },
      "execution_count": null,
      "outputs": [
        {
          "output_type": "execute_result",
          "data": {
            "text/plain": [
              "{1, 2, 3, 4, 5}"
            ]
          },
          "metadata": {},
          "execution_count": 75
        }
      ]
    },
    {
      "cell_type": "code",
      "source": [
        "# 24)  Write a code to add the element 6 to the set {1, 2, 3, 4}.\n",
        "set3={1,2,3,4,}\n",
        "set3.add(6)\n",
        "set3"
      ],
      "metadata": {
        "colab": {
          "base_uri": "https://localhost:8080/"
        },
        "id": "uruwWYsdpDZW",
        "outputId": "20b39926-b0b7-4a8c-a896-39258290b913"
      },
      "execution_count": null,
      "outputs": [
        {
          "output_type": "execute_result",
          "data": {
            "text/plain": [
              "{1, 2, 3, 4, 6}"
            ]
          },
          "metadata": {},
          "execution_count": 77
        }
      ]
    },
    {
      "cell_type": "code",
      "source": [],
      "metadata": {
        "id": "If-FFY75pNRX"
      },
      "execution_count": null,
      "outputs": []
    }
  ]
}